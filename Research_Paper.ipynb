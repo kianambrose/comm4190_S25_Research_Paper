{
 "cells": [
  {
   "cell_type": "markdown",
   "id": "c80b4a06-a1de-4a3c-a05a-f91644f0ae66",
   "metadata": {},
   "source": [
    "<style>\n",
    ".bib-entry {\n",
    "  padding-left: 1.5em;\n",
    "  text-indent: -1.5em;\n",
    "  margin-bottom: 1em;\n",
    "}\n",
    "</style>\n",
    "\n",
    "<div class=\"bib-entry\">\n",
    "College of Education, University of South Africa, and E M Lemmer. “Who’s Doing the Talking? Teacher and Parent Experiences of Parent-Teacher Conferences.” <i>South African Journal of Education</i> 32, no. 1 (January 27, 2012): 83–96. <a href=\"https://doi.org/10.15700/saje.v32n1a460\">https://doi.org/10.15700/saje.v32n1a460</a>.\n",
    "</div>\n",
    "\n",
    "<div class=\"bib-entry\">\n",
    "Munthe, Elaine, and Elsa Westergård. “Parents’, Teachers’, and Students’ Roles in Parent-Teacher Conferences; a Systematic Review and Meta-Synthesis.” <i>Teaching and Teacher Education</i> 136 (December 2023): 104355. <a href=\"https://doi.org/10.1016/j.tate.2023.104355\">https://doi.org/10.1016/j.tate.2023.104355</a>.\n",
    "</div>\n",
    "\n",
    "<div class=\"bib-entry\">\n",
    "Solberg, Janne. “Privacy in Early Childhood Education and Care: The Management of Family Information in Parent–Teacher Conferences.” <i>Human Studies</i> 47, no. 2 (June 2024): 367–88. <a href=\"https://doi.org/10.1007/s10746-023-09683-5\">https://doi.org/10.1007/s10746-023-09683-5</a>.\n",
    "</div>\n",
    "\n",
    "<div class=\"bib-entry\">\n",
    "Walker, Joan M. T., and Benjamin H. Dotger. “Because Wisdom Can’t Be Told: Using Comparison of Simulated Parent–Teacher Conferences to Assess Teacher Candidates’ Readiness for Family-School Partnership.” <i>Journal of Teacher Education</i> 63, no. 1 (2012): 62–75. <a href=\"https://doi.org/10.1177/0022487111419300\">https://doi.org/10.1177/0022487111419300</a>.\n",
    "</div>\n"
   ]
  }
 ],
 "metadata": {
  "kernelspec": {
   "display_name": "Python 3 (ipykernel)",
   "language": "python",
   "name": "python3"
  },
  "language_info": {
   "codemirror_mode": {
    "name": "ipython",
    "version": 3
   },
   "file_extension": ".py",
   "mimetype": "text/x-python",
   "name": "python",
   "nbconvert_exporter": "python",
   "pygments_lexer": "ipython3",
   "version": "3.10.12"
  }
 },
 "nbformat": 4,
 "nbformat_minor": 5
}
